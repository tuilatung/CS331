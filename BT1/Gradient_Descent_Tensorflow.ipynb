{
  "nbformat": 4,
  "nbformat_minor": 0,
  "metadata": {
    "colab": {
      "name": "Gradient Descent Tensorflow.ipynb",
      "provenance": [],
      "collapsed_sections": []
    },
    "kernelspec": {
      "name": "python3",
      "display_name": "Python 3"
    },
    "language_info": {
      "name": "python"
    },
    "accelerator": "GPU"
  },
  "cells": [
    {
      "cell_type": "code",
      "execution_count": 6,
      "metadata": {
        "id": "gfAe8CTrtLs2"
      },
      "outputs": [],
      "source": [
        "import numpy as np\n",
        "import tensorflow as tf"
      ]
    },
    {
      "cell_type": "code",
      "source": [
        "theta0 = tf.Variable(1.0)\n",
        "theta1 = tf.Variable(1.0)\n",
        "epsilon = 1e-5"
      ],
      "metadata": {
        "id": "bqxqwOLtvwfJ"
      },
      "execution_count": 11,
      "outputs": []
    },
    {
      "cell_type": "code",
      "source": [
        "@tf.function\n",
        "def Loss(theta0, theta1):\n",
        "    return 2 * theta0**2 + 4 * theta1**2 - 8 * theta0 - 8 * theta1 + 25"
      ],
      "metadata": {
        "id": "qQ66QbrQv3qK"
      },
      "execution_count": 12,
      "outputs": []
    },
    {
      "cell_type": "code",
      "source": [
        "optimizer = tf.keras.optimizers.SGD(learning_rate=0.1)"
      ],
      "metadata": {
        "id": "Krxcc-Q9wGBk"
      },
      "execution_count": 13,
      "outputs": []
    },
    {
      "cell_type": "code",
      "source": [
        "while True:\n",
        "    with tf.GradientTape() as tape:\n",
        "        loss = Loss(theta0, theta1)\n",
        "        print(loss)\n",
        "    grads = tape.gradient(loss, [theta0, theta1])\n",
        "    optimizer.apply_gradients(zip(grads, [theta0, theta1]))\n",
        "    if abs(grads[0].numpy()) < epsilon and abs(grads[1].numpy()) < epsilon:\n",
        "        break"
      ],
      "metadata": {
        "colab": {
          "base_uri": "https://localhost:8080/"
        },
        "id": "Ne7nsZEpwPJH",
        "outputId": "3e2282c5-cb7a-4ccf-9309-5b7d5a276dd5"
      },
      "execution_count": 14,
      "outputs": [
        {
          "output_type": "stream",
          "name": "stdout",
          "text": [
            "tf.Tensor(15.0, shape=(), dtype=float32)\n",
            "tf.Tensor(13.72, shape=(), dtype=float32)\n",
            "tf.Tensor(13.2592, shape=(), dtype=float32)\n",
            "tf.Tensor(13.093312, shape=(), dtype=float32)\n",
            "tf.Tensor(13.033592, shape=(), dtype=float32)\n",
            "tf.Tensor(13.012093, shape=(), dtype=float32)\n",
            "tf.Tensor(13.004354, shape=(), dtype=float32)\n",
            "tf.Tensor(13.001568, shape=(), dtype=float32)\n",
            "tf.Tensor(13.000565, shape=(), dtype=float32)\n",
            "tf.Tensor(13.000203, shape=(), dtype=float32)\n",
            "tf.Tensor(13.0000725, shape=(), dtype=float32)\n",
            "tf.Tensor(13.000026, shape=(), dtype=float32)\n",
            "tf.Tensor(13.00001, shape=(), dtype=float32)\n",
            "tf.Tensor(13.000004, shape=(), dtype=float32)\n",
            "tf.Tensor(13.000002, shape=(), dtype=float32)\n",
            "tf.Tensor(13.000001, shape=(), dtype=float32)\n",
            "tf.Tensor(13.0, shape=(), dtype=float32)\n",
            "tf.Tensor(13.0, shape=(), dtype=float32)\n",
            "tf.Tensor(13.0, shape=(), dtype=float32)\n",
            "tf.Tensor(13.0, shape=(), dtype=float32)\n",
            "tf.Tensor(13.0, shape=(), dtype=float32)\n",
            "tf.Tensor(13.0, shape=(), dtype=float32)\n",
            "tf.Tensor(13.0, shape=(), dtype=float32)\n",
            "tf.Tensor(13.0, shape=(), dtype=float32)\n",
            "tf.Tensor(13.0, shape=(), dtype=float32)\n",
            "tf.Tensor(13.0, shape=(), dtype=float32)\n",
            "tf.Tensor(13.0, shape=(), dtype=float32)\n"
          ]
        }
      ]
    },
    {
      "cell_type": "code",
      "source": [
        "print('Theta0 toi uu: ', theta0.numpy())\n",
        "print('Theta1 toi uu: ', theta1.numpy())\n",
        "print('Loss toi uu: ', loss.numpy())"
      ],
      "metadata": {
        "colab": {
          "base_uri": "https://localhost:8080/"
        },
        "id": "K_pmKlIIx8LT",
        "outputId": "87bc0b11-d217-4312-99b1-491394ec978f"
      },
      "execution_count": 15,
      "outputs": [
        {
          "output_type": "stream",
          "name": "stdout",
          "text": [
            "Theta0 toi uu:  1.9999989\n",
            "Theta1 toi uu:  1.0\n",
            "Loss toi uu:  13.0\n"
          ]
        }
      ]
    }
  ]
}