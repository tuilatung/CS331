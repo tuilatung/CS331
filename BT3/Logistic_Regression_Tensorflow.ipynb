{
 "cells": [
  {
   "cell_type": "markdown",
   "id": "df320e75",
   "metadata": {},
   "source": [
    "Huỳnh Thiện Tùng (19522492)\n",
    "\n",
    "Bài tập Cài đặt Logistic Regression với Tensorflow/Pytorch"
   ]
  },
  {
   "cell_type": "code",
   "execution_count": 1,
   "id": "90779d86",
   "metadata": {},
   "outputs": [
    {
     "name": "stdout",
     "output_type": "stream",
     "text": [
      "WARNING:tensorflow:From C:\\Users\\huynh\\anaconda3\\lib\\site-packages\\tensorflow\\python\\compat\\v2_compat.py:107: disable_resource_variables (from tensorflow.python.ops.variable_scope) is deprecated and will be removed in a future version.\n",
      "Instructions for updating:\n",
      "non-resource variables are not supported in the long term\n"
     ]
    }
   ],
   "source": [
    "import tensorflow.compat.v1 as tf\n",
    "tf.disable_v2_behavior()\n",
    "import numpy as np\n",
    "import matplotlib.pyplot as plt\n",
    "import pandas as pd\n",
    "from sklearn.preprocessing import OneHotEncoder"
   ]
  },
  {
   "cell_type": "markdown",
   "id": "1f37fa49",
   "metadata": {},
   "source": [
    "Dataset được sử dụng tại link https://media.geeksforgeeks.org/wp-content/uploads/dataset.csv "
   ]
  },
  {
   "cell_type": "code",
   "execution_count": 2,
   "id": "b9d28380",
   "metadata": {},
   "outputs": [
    {
     "name": "stdout",
     "output_type": "stream",
     "text": [
      "(100, 4)\n"
     ]
    }
   ],
   "source": [
    "df = pd.read_csv('./dataset.csv', header=None)\n",
    "print(df.shape)"
   ]
  },
  {
   "cell_type": "code",
   "execution_count": 3,
   "id": "927ef754",
   "metadata": {},
   "outputs": [
    {
     "data": {
      "text/html": [
       "<div>\n",
       "<style scoped>\n",
       "    .dataframe tbody tr th:only-of-type {\n",
       "        vertical-align: middle;\n",
       "    }\n",
       "\n",
       "    .dataframe tbody tr th {\n",
       "        vertical-align: top;\n",
       "    }\n",
       "\n",
       "    .dataframe thead th {\n",
       "        text-align: right;\n",
       "    }\n",
       "</style>\n",
       "<table border=\"1\" class=\"dataframe\">\n",
       "  <thead>\n",
       "    <tr style=\"text-align: right;\">\n",
       "      <th></th>\n",
       "      <th>0</th>\n",
       "      <th>1</th>\n",
       "      <th>2</th>\n",
       "      <th>3</th>\n",
       "    </tr>\n",
       "  </thead>\n",
       "  <tbody>\n",
       "    <tr>\n",
       "      <th>count</th>\n",
       "      <td>100.000000</td>\n",
       "      <td>100.000000</td>\n",
       "      <td>100.000000</td>\n",
       "      <td>100.000000</td>\n",
       "    </tr>\n",
       "    <tr>\n",
       "      <th>mean</th>\n",
       "      <td>49.500000</td>\n",
       "      <td>5.471000</td>\n",
       "      <td>3.094000</td>\n",
       "      <td>0.500000</td>\n",
       "    </tr>\n",
       "    <tr>\n",
       "      <th>std</th>\n",
       "      <td>29.011492</td>\n",
       "      <td>0.641698</td>\n",
       "      <td>0.476057</td>\n",
       "      <td>0.502519</td>\n",
       "    </tr>\n",
       "    <tr>\n",
       "      <th>min</th>\n",
       "      <td>0.000000</td>\n",
       "      <td>4.300000</td>\n",
       "      <td>2.000000</td>\n",
       "      <td>0.000000</td>\n",
       "    </tr>\n",
       "    <tr>\n",
       "      <th>25%</th>\n",
       "      <td>24.750000</td>\n",
       "      <td>5.000000</td>\n",
       "      <td>2.800000</td>\n",
       "      <td>0.000000</td>\n",
       "    </tr>\n",
       "    <tr>\n",
       "      <th>50%</th>\n",
       "      <td>49.500000</td>\n",
       "      <td>5.400000</td>\n",
       "      <td>3.050000</td>\n",
       "      <td>0.500000</td>\n",
       "    </tr>\n",
       "    <tr>\n",
       "      <th>75%</th>\n",
       "      <td>74.250000</td>\n",
       "      <td>5.900000</td>\n",
       "      <td>3.400000</td>\n",
       "      <td>1.000000</td>\n",
       "    </tr>\n",
       "    <tr>\n",
       "      <th>max</th>\n",
       "      <td>99.000000</td>\n",
       "      <td>7.000000</td>\n",
       "      <td>4.400000</td>\n",
       "      <td>1.000000</td>\n",
       "    </tr>\n",
       "  </tbody>\n",
       "</table>\n",
       "</div>"
      ],
      "text/plain": [
       "                0           1           2           3\n",
       "count  100.000000  100.000000  100.000000  100.000000\n",
       "mean    49.500000    5.471000    3.094000    0.500000\n",
       "std     29.011492    0.641698    0.476057    0.502519\n",
       "min      0.000000    4.300000    2.000000    0.000000\n",
       "25%     24.750000    5.000000    2.800000    0.000000\n",
       "50%     49.500000    5.400000    3.050000    0.500000\n",
       "75%     74.250000    5.900000    3.400000    1.000000\n",
       "max     99.000000    7.000000    4.400000    1.000000"
      ]
     },
     "execution_count": 3,
     "metadata": {},
     "output_type": "execute_result"
    }
   ],
   "source": [
    "df.describe()"
   ]
  },
  {
   "cell_type": "code",
   "execution_count": 4,
   "id": "30092513",
   "metadata": {},
   "outputs": [
    {
     "data": {
      "text/html": [
       "<div>\n",
       "<style scoped>\n",
       "    .dataframe tbody tr th:only-of-type {\n",
       "        vertical-align: middle;\n",
       "    }\n",
       "\n",
       "    .dataframe tbody tr th {\n",
       "        vertical-align: top;\n",
       "    }\n",
       "\n",
       "    .dataframe thead th {\n",
       "        text-align: right;\n",
       "    }\n",
       "</style>\n",
       "<table border=\"1\" class=\"dataframe\">\n",
       "  <thead>\n",
       "    <tr style=\"text-align: right;\">\n",
       "      <th></th>\n",
       "      <th>0</th>\n",
       "      <th>1</th>\n",
       "      <th>2</th>\n",
       "      <th>3</th>\n",
       "    </tr>\n",
       "  </thead>\n",
       "  <tbody>\n",
       "    <tr>\n",
       "      <th>0</th>\n",
       "      <td>0</td>\n",
       "      <td>5.1</td>\n",
       "      <td>3.5</td>\n",
       "      <td>1</td>\n",
       "    </tr>\n",
       "    <tr>\n",
       "      <th>1</th>\n",
       "      <td>1</td>\n",
       "      <td>4.9</td>\n",
       "      <td>3.0</td>\n",
       "      <td>1</td>\n",
       "    </tr>\n",
       "    <tr>\n",
       "      <th>2</th>\n",
       "      <td>2</td>\n",
       "      <td>4.7</td>\n",
       "      <td>3.2</td>\n",
       "      <td>1</td>\n",
       "    </tr>\n",
       "    <tr>\n",
       "      <th>3</th>\n",
       "      <td>3</td>\n",
       "      <td>4.6</td>\n",
       "      <td>3.1</td>\n",
       "      <td>1</td>\n",
       "    </tr>\n",
       "    <tr>\n",
       "      <th>4</th>\n",
       "      <td>4</td>\n",
       "      <td>5.0</td>\n",
       "      <td>3.6</td>\n",
       "      <td>1</td>\n",
       "    </tr>\n",
       "    <tr>\n",
       "      <th>5</th>\n",
       "      <td>5</td>\n",
       "      <td>5.4</td>\n",
       "      <td>3.9</td>\n",
       "      <td>1</td>\n",
       "    </tr>\n",
       "    <tr>\n",
       "      <th>6</th>\n",
       "      <td>6</td>\n",
       "      <td>4.6</td>\n",
       "      <td>3.4</td>\n",
       "      <td>1</td>\n",
       "    </tr>\n",
       "    <tr>\n",
       "      <th>7</th>\n",
       "      <td>7</td>\n",
       "      <td>5.0</td>\n",
       "      <td>3.4</td>\n",
       "      <td>1</td>\n",
       "    </tr>\n",
       "    <tr>\n",
       "      <th>8</th>\n",
       "      <td>8</td>\n",
       "      <td>4.4</td>\n",
       "      <td>2.9</td>\n",
       "      <td>1</td>\n",
       "    </tr>\n",
       "    <tr>\n",
       "      <th>9</th>\n",
       "      <td>9</td>\n",
       "      <td>4.9</td>\n",
       "      <td>3.1</td>\n",
       "      <td>1</td>\n",
       "    </tr>\n",
       "  </tbody>\n",
       "</table>\n",
       "</div>"
      ],
      "text/plain": [
       "   0    1    2  3\n",
       "0  0  5.1  3.5  1\n",
       "1  1  4.9  3.0  1\n",
       "2  2  4.7  3.2  1\n",
       "3  3  4.6  3.1  1\n",
       "4  4  5.0  3.6  1\n",
       "5  5  5.4  3.9  1\n",
       "6  6  4.6  3.4  1\n",
       "7  7  5.0  3.4  1\n",
       "8  8  4.4  2.9  1\n",
       "9  9  4.9  3.1  1"
      ]
     },
     "execution_count": 4,
     "metadata": {},
     "output_type": "execute_result"
    }
   ],
   "source": [
    "df.head(10)"
   ]
  },
  {
   "cell_type": "code",
   "execution_count": 5,
   "id": "8ed8d1e6",
   "metadata": {},
   "outputs": [
    {
     "data": {
      "text/html": [
       "<div>\n",
       "<style scoped>\n",
       "    .dataframe tbody tr th:only-of-type {\n",
       "        vertical-align: middle;\n",
       "    }\n",
       "\n",
       "    .dataframe tbody tr th {\n",
       "        vertical-align: top;\n",
       "    }\n",
       "\n",
       "    .dataframe thead th {\n",
       "        text-align: right;\n",
       "    }\n",
       "</style>\n",
       "<table border=\"1\" class=\"dataframe\">\n",
       "  <thead>\n",
       "    <tr style=\"text-align: right;\">\n",
       "      <th></th>\n",
       "      <th>0</th>\n",
       "      <th>1</th>\n",
       "      <th>2</th>\n",
       "      <th>3</th>\n",
       "    </tr>\n",
       "  </thead>\n",
       "  <tbody>\n",
       "    <tr>\n",
       "      <th>90</th>\n",
       "      <td>90</td>\n",
       "      <td>5.5</td>\n",
       "      <td>2.6</td>\n",
       "      <td>0</td>\n",
       "    </tr>\n",
       "    <tr>\n",
       "      <th>91</th>\n",
       "      <td>91</td>\n",
       "      <td>6.1</td>\n",
       "      <td>3.0</td>\n",
       "      <td>0</td>\n",
       "    </tr>\n",
       "    <tr>\n",
       "      <th>92</th>\n",
       "      <td>92</td>\n",
       "      <td>5.8</td>\n",
       "      <td>2.6</td>\n",
       "      <td>0</td>\n",
       "    </tr>\n",
       "    <tr>\n",
       "      <th>93</th>\n",
       "      <td>93</td>\n",
       "      <td>5.0</td>\n",
       "      <td>2.3</td>\n",
       "      <td>0</td>\n",
       "    </tr>\n",
       "    <tr>\n",
       "      <th>94</th>\n",
       "      <td>94</td>\n",
       "      <td>5.6</td>\n",
       "      <td>2.7</td>\n",
       "      <td>0</td>\n",
       "    </tr>\n",
       "    <tr>\n",
       "      <th>95</th>\n",
       "      <td>95</td>\n",
       "      <td>5.7</td>\n",
       "      <td>3.0</td>\n",
       "      <td>0</td>\n",
       "    </tr>\n",
       "    <tr>\n",
       "      <th>96</th>\n",
       "      <td>96</td>\n",
       "      <td>5.7</td>\n",
       "      <td>2.9</td>\n",
       "      <td>0</td>\n",
       "    </tr>\n",
       "    <tr>\n",
       "      <th>97</th>\n",
       "      <td>97</td>\n",
       "      <td>6.2</td>\n",
       "      <td>2.9</td>\n",
       "      <td>0</td>\n",
       "    </tr>\n",
       "    <tr>\n",
       "      <th>98</th>\n",
       "      <td>98</td>\n",
       "      <td>5.1</td>\n",
       "      <td>2.5</td>\n",
       "      <td>0</td>\n",
       "    </tr>\n",
       "    <tr>\n",
       "      <th>99</th>\n",
       "      <td>99</td>\n",
       "      <td>5.7</td>\n",
       "      <td>2.8</td>\n",
       "      <td>0</td>\n",
       "    </tr>\n",
       "  </tbody>\n",
       "</table>\n",
       "</div>"
      ],
      "text/plain": [
       "     0    1    2  3\n",
       "90  90  5.5  2.6  0\n",
       "91  91  6.1  3.0  0\n",
       "92  92  5.8  2.6  0\n",
       "93  93  5.0  2.3  0\n",
       "94  94  5.6  2.7  0\n",
       "95  95  5.7  3.0  0\n",
       "96  96  5.7  2.9  0\n",
       "97  97  6.2  2.9  0\n",
       "98  98  5.1  2.5  0\n",
       "99  99  5.7  2.8  0"
      ]
     },
     "execution_count": 5,
     "metadata": {},
     "output_type": "execute_result"
    }
   ],
   "source": [
    "df.tail(10)"
   ]
  },
  {
   "cell_type": "markdown",
   "id": "79bf2771",
   "metadata": {},
   "source": [
    "Quan sát tập dữ liệu trên, ta bỏ cột đầu tiên, lấy 2 cột tiếp theo đại diện cho feature X, cột cuối cùng là label thuộc class {0, 1}"
   ]
  },
  {
   "cell_type": "code",
   "execution_count": 6,
   "id": "2aeb7c09",
   "metadata": {},
   "outputs": [
    {
     "name": "stdout",
     "output_type": "stream",
     "text": [
      "(100, 2)\n",
      "(100, 1)\n"
     ]
    }
   ],
   "source": [
    "# Ma trận đặc trưng gồm x1, x2\n",
    "x_orig = df.iloc[:, 1:-1].values\n",
    "  \n",
    "# Nhãn dữ liệu\n",
    "y_orig = df.iloc[:, -1:].values\n",
    "  \n",
    "print(x_orig.shape)\n",
    "print(y_orig.shape)"
   ]
  },
  {
   "cell_type": "code",
   "execution_count": 7,
   "id": "88947525",
   "metadata": {},
   "outputs": [
    {
     "data": {
      "image/png": "[encoded data removed]",
      "text/plain": [
       "<Figure size 432x288 with 1 Axes>"
      ]
     },
     "metadata": {
      "needs_background": "light"
     },
     "output_type": "display_data"
    }
   ],
   "source": [
    "# Positive Data Points\n",
    "x_pos = np.array([x_orig[i] for i in range(len(x_orig)) if y_orig[i] == 1])\n",
    "  \n",
    "# Negative Data Points\n",
    "x_neg = np.array([x_orig[i] for i in range(len(x_orig)) if y_orig[i] == 0])\n",
    "  \n",
    "# Plotting the Positive and Negative Data Points\n",
    "plt.scatter(x_pos[:, 0], x_pos[:, 1], color = 'blue', label = 'Positive')\n",
    "plt.scatter(x_neg[:, 0], x_neg[:, 1], color = 'red', label = 'Negative')\n",
    "  \n",
    "plt.xlabel('Feature X1')\n",
    "plt.ylabel('Feature X2')\n",
    "plt.title('Training data')\n",
    "plt.legend()\n",
    "  \n",
    "plt.show()"
   ]
  },
  {
   "cell_type": "code",
   "execution_count": 8,
   "id": "81cba926",
   "metadata": {},
   "outputs": [
    {
     "name": "stdout",
     "output_type": "stream",
     "text": [
      "m = 100\n",
      "n = 51\n",
      "Learning Rate = 0.0035\n",
      "Number of Epochs = 500\n"
     ]
    }
   ],
   "source": [
    "# Creating the One Hot Encoder\n",
    "oneHot = OneHotEncoder()\n",
    "\n",
    "# Encoding x_orig\n",
    "oneHot.fit(x_orig)\n",
    "x = oneHot.transform(x_orig).toarray()\n",
    "\n",
    "# Encoding y_orig\n",
    "oneHot.fit(y_orig)\n",
    "y = oneHot.transform(y_orig).toarray()\n",
    "\n",
    "\n",
    "alpha, epochs = 0.0035, 500\n",
    "m, n = x.shape\n",
    "print('m =', m)\n",
    "print('n =', n)\n",
    "print('Learning Rate =', alpha)\n",
    "print('Number of Epochs =', epochs)"
   ]
  },
  {
   "cell_type": "code",
   "execution_count": 9,
   "id": "ee73ad65",
   "metadata": {},
   "outputs": [],
   "source": [
    "# There are n columns in the feature matrix\n",
    "# after One Hot Encoding.\n",
    "X = tf.placeholder(tf.float32, [None, n])\n",
    "\n",
    "# Since this is a binary classification problem,\n",
    "# Y can take only 2 values.\n",
    "Y = tf.placeholder(tf.float32, [None, 2])\n",
    "\n",
    "# Trainable Variable Weights\n",
    "W = tf.Variable(tf.zeros([n, 2]))\n",
    "\n",
    "# Trainable Variable Bias\n",
    "b = tf.Variable(tf.zeros([2]))\n"
   ]
  },
  {
   "cell_type": "code",
   "execution_count": 10,
   "id": "a9eca6b3",
   "metadata": {},
   "outputs": [],
   "source": [
    "# Hypothesis\n",
    "Y_hat = tf.nn.sigmoid(tf.add(tf.matmul(X, W), b))\n",
    "\n",
    "# Sigmoid Cross Entropy Cost Function\n",
    "cost = tf.nn.sigmoid_cross_entropy_with_logits(logits = Y_hat, labels = Y)\n",
    "\n",
    "# Gradient Descent Optimizer\n",
    "optimizer = tf.train.GradientDescentOptimizer(learning_rate = alpha).minimize(cost)\n",
    "\n",
    "# Global Variables Initializer\n",
    "init = tf.global_variables_initializer()\n"
   ]
  },
  {
   "cell_type": "code",
   "execution_count": 11,
   "id": "9dcfabbc",
   "metadata": {},
   "outputs": [
    {
     "name": "stdout",
     "output_type": "stream",
     "text": [
      "Epoch 100 Cost: 136.38085174560547\n",
      "Epoch 200 Cost: 132.71681213378906\n",
      "Epoch 300 Cost: 129.7982940673828\n",
      "Epoch 400 Cost: 127.31647109985352\n",
      "Epoch 500 Cost: 125.27126693725586\n",
      "\n",
      "Accuracy: 87.00000047683716 %\n"
     ]
    }
   ],
   "source": [
    "# Starting the Tensorflow Session\n",
    "with tf.Session() as sess:\n",
    "\n",
    "    # Initializing the Variables\n",
    "    sess.run(init)\n",
    "\n",
    "    # Lists for storing the changing Cost and Accuracy in every Epoch\n",
    "    cost_history, accuracy_history = [], []\n",
    "\n",
    "    # Iterating through all the epochs\n",
    "    for epoch in range(epochs):\n",
    "        cost_per_epoch = 0\n",
    "\n",
    "        # Running the Optimizer\n",
    "        sess.run(optimizer, feed_dict = {X : x, Y : y})\n",
    "\n",
    "        # Calculating cost on current Epoch\n",
    "        c = sess.run(cost, feed_dict = {X : x, Y : y})\n",
    "        # Calculating accuracy on current Epoch\n",
    "        correct_prediction = tf.equal(tf.argmax(Y_hat, 1), tf.argmax(Y, 1))\n",
    "        accuracy = tf.reduce_mean(tf.cast(correct_prediction, tf.float32))\n",
    "        # Storing Cost and Accuracy to the history\n",
    "        cost_history.append(sum(sum(c)))\n",
    "        accuracy_history.append(accuracy.eval({X : x, Y : y}) * 100)\n",
    "\n",
    "        # Displaying result on current Epoch\n",
    "        if (epoch + 1) % 100 == 0 and epoch != 0:\n",
    "            print(\"Epoch \" + str(epoch+1) + \" Cost: \" + str(cost_history[-1]))\n",
    "\n",
    "    Weight = sess.run(W) # Optimized Weight\n",
    "    Bias = sess.run(b) # Optimized Bias\n",
    "\n",
    "    # Final Accuracy\n",
    "    correct_prediction = tf.equal(tf.argmax(Y_hat, 1), tf.argmax(Y, 1))\n",
    "    accuracy = tf.reduce_mean(tf.cast(correct_prediction, tf.float32))\n",
    "    print(\"\\nAccuracy:\", accuracy_history[-1], \"%\")\n"
   ]
  },
  {
   "cell_type": "code",
   "execution_count": 12,
   "id": "f316610f",
   "metadata": {},
   "outputs": [
    {
     "data": {
      "image/png": "[encoded data removed]",
      "text/plain": [
       "<Figure size 432x288 with 1 Axes>"
      ]
     },
     "metadata": {
      "needs_background": "light"
     },
     "output_type": "display_data"
    }
   ],
   "source": [
    "plt.plot(list(range(epochs)), cost_history)\n",
    "plt.xlabel('Epochs')\n",
    "plt.ylabel('Cost')\n",
    "plt.title('Decrease in Cost with Epochs')\n",
    "\n",
    "plt.show()\n"
   ]
  },
  {
   "cell_type": "code",
   "execution_count": 13,
   "id": "97b7eeae",
   "metadata": {},
   "outputs": [
    {
     "data": {
      "image/png": "[encoded data removed]",
      "text/plain": [
       "<Figure size 432x288 with 1 Axes>"
      ]
     },
     "metadata": {
      "needs_background": "light"
     },
     "output_type": "display_data"
    }
   ],
   "source": [
    "plt.plot(list(range(epochs)), accuracy_history)\n",
    "plt.xlabel('Epochs')\n",
    "plt.ylabel('Accuracy')\n",
    "plt.title('Increase in Accuracy with Epochs')\n",
    "  \n",
    "plt.show()"
   ]
  },
  {
   "cell_type": "code",
   "execution_count": 32,
   "id": "24202d66",
   "metadata": {},
   "outputs": [
    {
     "data": {
      "image/png": "[encoded data removed]",
      "text/plain": [
       "<Figure size 432x288 with 1 Axes>"
      ]
     },
     "metadata": {
      "needs_background": "light"
     },
     "output_type": "display_data"
    }
   ],
   "source": [
    "# Calculating the Decision Boundary\n",
    "decision_boundary_x = np.array([np.min(x_orig[:, 0]), np.max(x_orig[:, 0])])\n",
    "decision_boundary_y = (- 1.0 / Weight[0]) * (decision_boundary_x * Weight + Bias)\n",
    "decision_boundary_y = [np.mean(decision_boundary_y[:, 0]), np.mean(decision_boundary_y[:, 1])]\n",
    "\n",
    "\n",
    "# Positive Data Points\n",
    "x_pos = np.array([x_orig[i] for i in range(len(x_orig)) if y_orig[i] == 1])\n",
    "\n",
    "# Negative Data Points\n",
    "x_neg = np.array([x_orig[i] for i in range(len(x_orig)) if y_orig[i] == 0])\n",
    "\n",
    "# Plotting the Positive Data Points\n",
    "plt.scatter(x_pos[:, 0], x_pos[:, 1], color = 'blue', label = 'Positive')\n",
    "\n",
    "# Plotting the Negative Data Points\n",
    "plt.scatter(x_neg[:, 0], x_neg[:, 1], color = 'red', label = 'Negative')\n",
    "\n",
    "# # Plotting the Decision Boundary\n",
    "plt.plot(decision_boundary_x, decision_boundary_y)\n",
    "plt.xlabel('Feature 1')\n",
    "plt.ylabel('Feature 2')\n",
    "plt.title('Plot of Decision Boundary')\n",
    "plt.legend()\n",
    "\n",
    "plt.show()\n"
   ]
  }
 ],
 "metadata": {
  "kernelspec": {
   "display_name": "Python 3 (ipykernel)",
   "language": "python",
   "name": "python3"
  },
  "language_info": {
   "codemirror_mode": {
    "name": "ipython",
    "version": 3
   },
   "file_extension": ".py",
   "mimetype": "text/x-python",
   "name": "python",
   "nbconvert_exporter": "python",
   "pygments_lexer": "ipython3",
   "version": "3.9.7"
  }
 },
 "nbformat": 4,
 "nbformat_minor": 5
}
