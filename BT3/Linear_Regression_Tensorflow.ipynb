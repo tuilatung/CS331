{
 "cells": [
  {
   "cell_type": "markdown",
   "id": "e6b295f0",
   "metadata": {},
   "source": [
    "Sinh viên: Huỳnh Thiện Tùng (19522492)\n",
    "\n",
    "Bài tập Cài đặt Linear Regression với Tensorflow/Pytorch"
   ]
  },
  {
   "cell_type": "code",
   "execution_count": 1,
   "id": "03c46a6f",
   "metadata": {},
   "outputs": [
    {
     "name": "stdout",
     "output_type": "stream",
     "text": [
      "WARNING:tensorflow:From C:\\Users\\huynh\\anaconda3\\lib\\site-packages\\tensorflow\\python\\compat\\v2_compat.py:107: disable_resource_variables (from tensorflow.python.ops.variable_scope) is deprecated and will be removed in a future version.\n",
      "Instructions for updating:\n",
      "non-resource variables are not supported in the long term\n"
     ]
    }
   ],
   "source": [
    "import tensorflow.compat.v1 as tf\n",
    "tf.disable_v2_behavior() \n",
    "\n",
    "import numpy as np\n",
    "import matplotlib.pyplot as plt"
   ]
  },
  {
   "cell_type": "code",
   "execution_count": 2,
   "id": "d59a68cd",
   "metadata": {},
   "outputs": [],
   "source": [
    "np.random.seed(1)\n",
    "tf.set_random_seed(1)"
   ]
  },
  {
   "cell_type": "code",
   "execution_count": 3,
   "id": "62df8dd1",
   "metadata": {},
   "outputs": [],
   "source": [
    "# generate training data\n",
    "n_sample = 100\n",
    "x = np.linspace(-20, 20, n_sample)\n",
    "y = np.linspace(-20, 20, n_sample)\n",
    "\n",
    "x += np.random.normal(0, 2, n_sample)\n",
    "y += np.random.normal(0, 2, n_sample)"
   ]
  },
  {
   "cell_type": "code",
   "execution_count": 4,
   "id": "de6a7f40",
   "metadata": {},
   "outputs": [
    {
     "name": "stdout",
     "output_type": "stream",
     "text": [
      "(100,)\n",
      "(100,)\n"
     ]
    }
   ],
   "source": [
    "print(x.shape)\n",
    "print(y.shape)"
   ]
  },
  {
   "cell_type": "code",
   "execution_count": 5,
   "id": "4ce3f0f9",
   "metadata": {},
   "outputs": [
    {
     "data": {
      "image/png": "[encoded data removed]",
      "text/plain": [
       "<Figure size 432x288 with 1 Axes>"
      ]
     },
     "metadata": {
      "needs_background": "light"
     },
     "output_type": "display_data"
    }
   ],
   "source": [
    "# visualize the data\n",
    "plt.scatter(x, y)\n",
    "plt.xlabel('x')\n",
    "plt.ylabel('y')\n",
    "plt.title('Training data')\n",
    "plt.show()"
   ]
  },
  {
   "cell_type": "markdown",
   "id": "dd7b7d02",
   "metadata": {},
   "source": [
    "Now we will start creating our model by defining the placeholders X and Y, so that we can feed our training examples X and Y into the optimizer during the training process."
   ]
  },
  {
   "cell_type": "code",
   "execution_count": 6,
   "id": "39abad43",
   "metadata": {},
   "outputs": [],
   "source": [
    "X = tf.placeholder('float')\n",
    "Y = tf.placeholder('float')\n",
    "\n",
    "W = tf.Variable(np.random.randn(), name='W')\n",
    "b = tf.Variable(np.random.randn(), name='b')"
   ]
  },
  {
   "cell_type": "code",
   "execution_count": 7,
   "id": "03d586cb",
   "metadata": {},
   "outputs": [],
   "source": [
    "# define hyperparameters\n",
    "learning_rate = 0.01\n",
    "training_epochs = 1000"
   ]
  },
  {
   "cell_type": "code",
   "execution_count": 8,
   "id": "825f124d",
   "metadata": {},
   "outputs": [],
   "source": [
    "# define hypothesis\n",
    "y_hat = tf.add(tf.multiply(X, W), b)\n",
    "\n",
    "# mean square error cost function\n",
    "cost = tf.reduce_sum(tf.pow(y_hat - Y, 2) / (2 * n_sample))\n",
    "\n",
    "# optimizer using Gradient Descent and minimize cost function\n",
    "optimizer = tf.train.GradientDescentOptimizer(learning_rate).minimize(cost)\n",
    "\n",
    "# Global Variables Initializer\n",
    "init = tf.global_variables_initializer()"
   ]
  },
  {
   "cell_type": "code",
   "execution_count": 9,
   "id": "a636569d",
   "metadata": {},
   "outputs": [
    {
     "name": "stdout",
     "output_type": "stream",
     "text": [
      "Epoch 50: cost = 0.0005930516053922474, W = 0.9889995455741882; b = 0.5837875604629517\n",
      "Epoch 100: cost = 0.0008664641063660383, W = 0.9917439222335815; b = 0.45318174362182617\n",
      "Epoch 150: cost = 0.0010593824554234743, W = 0.9934242963790894; b = 0.3732125163078308\n",
      "Epoch 200: cost = 0.0011870689922943711, W = 0.9944533109664917; b = 0.324245810508728\n",
      "Epoch 250: cost = 0.0012688387650996447, W = 0.9950833320617676; b = 0.2942637801170349\n",
      "Epoch 300: cost = 0.001320244511589408, W = 0.9954690933227539; b = 0.2759053707122803\n",
      "Epoch 350: cost = 0.001352230436168611, W = 0.9957053661346436; b = 0.26466354727745056\n",
      "Epoch 400: cost = 0.0013720113784074783, W = 0.9958499670028687; b = 0.25778070092201233\n",
      "Epoch 450: cost = 0.0013841978507116437, W = 0.9959383606910706; b = 0.25356611609458923\n",
      "Epoch 500: cost = 0.0013916845200583339, W = 0.9959926009178162; b = 0.25098541378974915\n",
      "Epoch 550: cost = 0.0013962768716737628, W = 0.996025800704956; b = 0.24940530955791473\n",
      "Epoch 600: cost = 0.0013990802690386772, W = 0.996046245098114; b = 0.2484377920627594\n",
      "Epoch 650: cost = 0.0014008263824507594, W = 0.9960585832595825; b = 0.24784524738788605\n",
      "Epoch 700: cost = 0.0014018663205206394, W = 0.9960663318634033; b = 0.24748240411281586\n",
      "Epoch 750: cost = 0.0014025128912180662, W = 0.996070921421051; b = 0.2472601681947708\n",
      "Epoch 800: cost = 0.0014029269805178046, W = 0.9960736632347107; b = 0.24712373316287994\n",
      "Epoch 850: cost = 0.001403159461915493, W = 0.9960755109786987; b = 0.24704137444496155\n",
      "Epoch 900: cost = 0.0014032907783985138, W = 0.996076762676239; b = 0.24698925018310547\n",
      "Epoch 950: cost = 0.0014034019550308585, W = 0.996077299118042; b = 0.24695715308189392\n",
      "Epoch 1000: cost = 0.0014034727355465293, W = 0.9960776567459106; b = 0.24693724513053894\n"
     ]
    }
   ],
   "source": [
    "with tf.Session() as sess:\n",
    "    \n",
    "    # initializing the global variables\n",
    "    sess.run(init)\n",
    "    \n",
    "    for epoch in range(training_epochs):\n",
    "        # Feeding each data point into the optimizer using Feed Dictionary\n",
    "        for (_x, _y) in zip(x, y):\n",
    "            sess.run(optimizer, feed_dict={X: _x, Y: _y})\n",
    "        \n",
    "        # Display after 50-th epoch\n",
    "        if (epoch + 1) % 50 == 0:\n",
    "            c = sess.run(cost, feed_dict={X: _x, Y: _y})\n",
    "            print(f'Epoch {epoch + 1}: cost = {c}, W = {sess.run(W)}; b = {sess.run(b)}')\n",
    "    \n",
    "    # Storing necessary values to be used outside the Session\n",
    "    training_cost = sess.run(cost, feed_dict ={X: x, Y: y})\n",
    "    weight = sess.run(W)\n",
    "    bias = sess.run(b)"
   ]
  },
  {
   "cell_type": "code",
   "execution_count": 10,
   "id": "d29e9fbc",
   "metadata": {},
   "outputs": [
    {
     "name": "stdout",
     "output_type": "stream",
     "text": [
      "Training cost = 3.001006 Weight = 0.99607766 bias = 0.24693725 \n",
      "\n"
     ]
    }
   ],
   "source": [
    "# Calculating the predictions\n",
    "predictions = weight * x + bias\n",
    "print(\"Training cost =\", training_cost, \"Weight =\", weight, \"bias =\", bias, '\\n')"
   ]
  },
  {
   "cell_type": "code",
   "execution_count": 13,
   "id": "047d7856",
   "metadata": {},
   "outputs": [
    {
     "data": {
      "image/png": "[encoded data removed]",
      "text/plain": [
       "<Figure size 432x288 with 1 Axes>"
      ]
     },
     "metadata": {
      "needs_background": "light"
     },
     "output_type": "display_data"
    }
   ],
   "source": [
    "# Plotting the Results\n",
    "plt.plot(x, y, 'bo', label ='Training data')\n",
    "plt.plot(x, predictions, 'r', label ='Predicted line')\n",
    "plt.title('Linear Regression Result')\n",
    "plt.legend()\n",
    "plt.show()"
   ]
  },
  {
   "cell_type": "code",
   "execution_count": null,
   "id": "5f83d707",
   "metadata": {},
   "outputs": [],
   "source": []
  }
 ],
 "metadata": {
  "kernelspec": {
   "display_name": "Python 3 (ipykernel)",
   "language": "python",
   "name": "python3"
  },
  "language_info": {
   "codemirror_mode": {
    "name": "ipython",
    "version": 3
   },
   "file_extension": ".py",
   "mimetype": "text/x-python",
   "name": "python",
   "nbconvert_exporter": "python",
   "pygments_lexer": "ipython3",
   "version": "3.9.7"
  }
 },
 "nbformat": 4,
 "nbformat_minor": 5
}
